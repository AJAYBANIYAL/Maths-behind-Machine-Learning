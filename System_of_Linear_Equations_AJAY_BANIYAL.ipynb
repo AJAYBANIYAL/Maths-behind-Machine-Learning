{
  "nbformat": 4,
  "nbformat_minor": 0,
  "metadata": {
    "colab": {
      "provenance": []
    },
    "kernelspec": {
      "name": "python3",
      "display_name": "Python 3"
    },
    "language_info": {
      "name": "python"
    }
  },
  "cells": [
    {
      "cell_type": "code",
      "source": [
        "#AJAY BANIYAL// Maths Behind Machine Learning\n",
        "#Understanding System of linear equation and plotting it\n",
        "#works only 3 linear equations\n",
        "import numpy as np\n",
        "import matplotlib.pyplot as plt"
      ],
      "metadata": {
        "id": "U_naObg11kja"
      },
      "execution_count": null,
      "outputs": []
    },
    {
      "cell_type": "code",
      "source": [
        "Equations=[]\n",
        "for n in range (3):\n",
        "  a=input(f\"Enter the value of X1 for {n+1} Equation :\")\n",
        "  b=input(f\"Enter the value of X2 for {n+1} Equation :\")\n",
        "  c=input(f\"Enter the value of X3 for {n+1} Equation :\")\n",
        "  d=input(f\"Enter the value of D(A+B+C=D) for {n} Equation :\")\n",
        "\n",
        "  #Storing Equation in list Value : KEY then Appending it\n",
        "  equation = {\"X1\": a, \"X2\": b, \"X3\": c, \"D\": d}\n",
        "  Equations.append(equation)\n",
        "  print(f\"The first equation is: ({a})X1+ ({b})X2 + ({c})X3 = {d}..........({n+1})\")"
      ],
      "metadata": {
        "id": "IOP5ZlAh4BrA",
        "colab": {
          "base_uri": "https://localhost:8080/"
        },
        "outputId": "29bf134d-3c45-4601-d030-9c841ebf703c"
      },
      "execution_count": null,
      "outputs": [
        {
          "output_type": "stream",
          "name": "stdout",
          "text": [
            "Enter the value of X1 for 1 Equation :1\n",
            "Enter the value of X2 for 1 Equation :1\n",
            "Enter the value of X3 for 1 Equation :1\n",
            "Enter the value of D(A+B+C=D) for 0 Equation :3\n",
            "The first equation is: (1)X1+ (1)X2 + (1)X3 = 3..........(1)\n",
            "Enter the value of X1 for 2 Equation :1\n",
            "Enter the value of X2 for 2 Equation :-1\n",
            "Enter the value of X3 for 2 Equation :2\n",
            "Enter the value of D(A+B+C=D) for 1 Equation :2\n",
            "The first equation is: (1)X1+ (-1)X2 + (2)X3 = 2..........(2)\n",
            "Enter the value of X1 for 3 Equation :2\n",
            "Enter the value of X2 for 3 Equation :0\n",
            "Enter the value of X3 for 3 Equation :3\n",
            "Enter the value of D(A+B+C=D) for 2 Equation :1\n",
            "The first equation is: (2)X1+ (0)X2 + (3)X3 = 1..........(3)\n"
          ]
        }
      ]
    },
    {
      "cell_type": "code",
      "source": [
        "print(\"Equations as a list key:Value\",Equations)\n",
        "for n in range(3):\n",
        "    print(f\"Equation no.{n+1} as Key :Value :\",Equations[n])\n"
      ],
      "metadata": {
        "colab": {
          "base_uri": "https://localhost:8080/"
        },
        "id": "rTRcF6dbCDuN",
        "outputId": "b86b704b-3c19-4a9e-88e0-e498ca2a1288"
      },
      "execution_count": null,
      "outputs": [
        {
          "output_type": "stream",
          "name": "stdout",
          "text": [
            "Equations as a list key:Value [{'X1': '1', 'X2': '1', 'X3': '1', 'D': '3'}, {'X1': '1', 'X2': '-1', 'X3': '2', 'D': '2'}, {'X1': '2', 'X2': '0', 'X3': '3', 'D': '1'}]\n",
            "Equation no.1 as Key :Value : {'X1': '1', 'X2': '1', 'X3': '1', 'D': '3'}\n",
            "Equation no.2 as Key :Value : {'X1': '1', 'X2': '-1', 'X3': '2', 'D': '2'}\n",
            "Equation no.3 as Key :Value : {'X1': '2', 'X2': '0', 'X3': '3', 'D': '1'}\n"
          ]
        }
      ]
    },
    {
      "cell_type": "markdown",
      "source": [
        "***Contradictory Equations:*** *A system of equations is contradictory if there are no possible values for the variables that can satisfy all the equations simultaneously. This occurs when the information conveyed by the equations is inherently conflicting. For example, one equation might state **X1 + X2 = 2**, while another states **X1 + X2 = 5**. These equations cannot be true at the same time.*\n",
        "\n",
        "***Redundant Equation:*** *A redundant equation in a system provides no new information and can be eliminated without affecting the solutions. It essentially repeats the information already conveyed by other equations in the system.*\n",
        "\n",
        "***Unique Solution:*** *A system of equations has a unique solution if there is exactly one set of values for the variables **(X1, X2, X3, etc.)** that satisfies all the equations simultaneously. This means each equation provides independent information, and all equations are necessary to find the solution.*\n",
        "\n",
        "The relationship between these concepts is:\n",
        "\n",
        "A system with unique solution will not have any contradictory or redundant equations. All equations are necessary and independent to pinpoint the single solution.\n",
        "\n",
        "A contradictory system can arise due to a redundant equation that contradicts existing constraints. The additional equation creates an impossible scenario.\n",
        "\n",
        "You can sometimes identify a redundant equation by analyzing the system. If adding two or more equations results in a simplified equation already present in the system, one of the original equations is redundant.\n",
        "\n",
        "Here's an example to illustrate these concepts:\n",
        "\n",
        "System 1:\n",
        "\n",
        "X1 + X2 + X3 = 3 (Equation 1)\n",
        "X1 - X2 + 2X3 = 2 (Equation 2)\n",
        "2X1 + 3X3 = 1 (Equation 3)\n",
        "This system has a unique solution. All three equations are necessary to find that specific solution (X1 = 1, X2 = 1, X3 = 1).\n",
        "\n",
        "System 2:\n",
        "\n",
        "X1 + X2 + X3 = 3 (Equation 1)\n",
        "X1 - X2 + 2X3 = 2 (Equation 2)\n",
        "2X1 + 3X3 = 5 (Equation 3) Contradiction\n",
        "Here, Equation 3 contradicts the information from Equations 1 and 2. The system has no solution because the constraints cannot be simultaneously satisfied.\n",
        "\n",
        "System 3:\n",
        "\n",
        "X1 + X2 + X3 = 3 (Equation 1)\n",
        "X1 - X2 + 2X3 = 2 (Equation 2)\n",
        "2X1 + 2X2 + 4X3 = 6 (Equation 3) Redundant\n",
        "Equation 3 is redundant because it's simply twice Equation 1. The system still has a unique solution (X1 = 1, X2 = 1, X3 = 1), but Equation 3 doesn't contribute new information.\n",
        "\n",
        "By understanding these concepts, you can analyze systems of equations and determine the number of solutions (unique, none, or infinitely many) based on the presence of contradictions or redundancies."
      ],
      "metadata": {
        "id": "w2LPhbSaF22u"
      }
    },
    {
      "cell_type": "code",
      "source": [
        "#Contradictory Test\n",
        "print(\"Contradictory Test\")\n",
        "# 3 equations elements are same or not\n",
        "print(\"CASE 1 :checking for Similarity of Elements are same or not without operations : \")\n",
        "E_1 = Equations[0].get(\"X1\") + Equations[0].get(\"X2\") + Equations[0].get(\"X3\")\n",
        "E_2 = Equations[1].get(\"X1\") + Equations[1].get(\"X2\") + Equations[1].get(\"X3\")\n",
        "E_3 = Equations[2].get(\"X1\") + Equations[2].get(\"X2\") + Equations[2].get(\"X3\")\n",
        "if(E_1==E_2):\n",
        "  print(\">Contradictory Equation\")\n",
        "if(E_2==E_3):\n",
        "  print(\">Contradictory Equation\")\n",
        "if(E_1==E_3):\n",
        "  print(\">Contradictory Equation\")\n",
        "else:\n",
        "  print(\">Not Contradictory Equation...\")\n",
        "\n",
        "\n",
        "#case:2\n",
        "print(\"CASE 2 :checking for Similarity of Elements are same or not after operations\")\n",
        "\n",
        "print(\"Adding Two Equations > \")\n",
        "# Add equations 1 and 2\n",
        "equation_sum_12 = {\n",
        "    var: float(Equations[0].get(var, 0)) + float(Equations[1].get(var, 0))\n",
        "    for var in [\"X1\", \"X2\", \"X3\"]\n",
        "}\n",
        "\n",
        "# Add equations 2 and 3\n",
        "equation_sum_23 = {\n",
        "    var: float(Equations[1].get(var, 0)) + float(Equations[2].get(var, 0))\n",
        "    for var in [\"X1\", \"X2\", \"X3\"]\n",
        "}\n",
        "\n",
        "# Add equations 1 and 3\n",
        "equation_sum_13 = {\n",
        "    var: float(Equations[0].get(var, 0)) + float(Equations[2].get(var, 0))\n",
        "    for var in [\"X1\", \"X2\", \"X3\"]\n",
        "}\n",
        "\n",
        "# Check for contradictions\n",
        "contradiction_found = False\n",
        "for i in range(len(Equations)):\n",
        "    if all(\n",
        "        equation_sum_12.get(var, 0) == float(Equations[i].get(var, 0))\n",
        "        for var in [\"X1\", \"X2\", \"X3\"]\n",
        "    ):\n",
        "        print(\"> Contradictory Equation after adding equations 1 and 2\")\n",
        "        contradiction_found = True\n",
        "        break\n",
        "    elif all(\n",
        "        equation_sum_23.get(var, 0) == float(Equations[i].get(var, 0))\n",
        "        for var in [\"X1\", \"X2\", \"X3\"]\n",
        "    ):\n",
        "        print(\"> Contradictory Equation after adding equations 2 and 3\")\n",
        "        contradiction_found = True\n",
        "        break\n",
        "    elif all(\n",
        "        equation_sum_13.get(var, 0) == float(Equations[i].get(var, 0))\n",
        "        for var in [\"X1\", \"X2\", \"X3\"]\n",
        "    ):\n",
        "        print(\"> Contradictory Equation after adding equations 1 and 3\")\n",
        "        contradiction_found = True\n",
        "        break\n",
        "\n",
        "if not contradiction_found:\n",
        "    print(\"> Not Contradictory Based on Equation Sums\")\n"
      ],
      "metadata": {
        "colab": {
          "base_uri": "https://localhost:8080/"
        },
        "id": "95Q-LWtgECl-",
        "outputId": "a699332e-a430-43b5-f7b6-dab0a526682a"
      },
      "execution_count": 124,
      "outputs": [
        {
          "output_type": "stream",
          "name": "stdout",
          "text": [
            "Contradictory Test\n",
            "CASE 1 :checking for Similarity of Elements are same or not without operations : \n",
            ">Not Contradictory Equation...\n",
            "CASE 2 :checking for Similarity of Elements are same or not after operations\n",
            "Adding Two Equations > \n",
            "> Contradictory Equation after adding equations 1 and 2\n"
          ]
        }
      ]
    }
  ]
}